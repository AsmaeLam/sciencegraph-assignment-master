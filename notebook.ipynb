{
 "cells": [
  {
   "cell_type": "markdown",
   "metadata": {},
   "source": [
    "##### Instructions\n",
    "\n",
    "The assignment consists of three tasks:\n",
    "\n",
    "- Run the T-test for the means of two independent samples underlying the statement \"IRE binding activity was significantly reduced in failing hearts\" (originally published by Haddad et al. in https://doi.org/10.1093/eurheartj/ehw333) using the following example data.\n",
    "\n",
    "| non-failing heart (NF) | failing heart (F) |\n",
    "| ---------------------- | ----------------- |\n",
    "| 95 | 50 |\n",
    "| 103 | 35 |\n",
    "| 99 | 21 | \n",
    "| &nbsp; | 15 | \n",
    "| &nbsp; | 7 | \n",
    "| &nbsp; | 40 |\n",
    "\n",
    "- Describe the statistical hypothesis test in machine readable form following the [statistical methods ontology concept for \"two sample t-test with unequal variance\"](https://www.ebi.ac.uk/ols/ontologies/stato/terms?iri=http%3A%2F%2Fpurl.obolibrary.org%2Fobo%2FSTATO_0000304) using Semantic Web technologies, namely the Resource Description Framework (RDF)\n",
    "- Process the resulting machine readable description using Semantic Web technologies, namely the SPARQL Protocol and RDF Query Language.\n",
    "\n",
    "Please return the assignment with all outputs visible (i.e., do not clear the outputs).\n",
    "\n",
    "Good luck!"
   ]
  },
  {
   "cell_type": "code",
   "execution_count": 1,
   "metadata": {},
   "outputs": [
    {
     "name": "stdout",
     "output_type": "stream",
     "text": [
      "Requirement already satisfied: rdflib in c:\\users\\asmae_000\\appdata\\local\\programs\\python\\python37\\lib\\site-packages (4.2.2)\n",
      "Requirement already satisfied: pandas in c:\\users\\asmae_000\\appdata\\local\\programs\\python\\python37\\lib\\site-packages (0.24.2)\n",
      "Requirement already satisfied: scipy in c:\\users\\asmae_000\\appdata\\local\\programs\\python\\python37\\lib\\site-packages (1.2.1)\n",
      "Requirement already satisfied: numpy in c:\\users\\asmae_000\\appdata\\local\\programs\\python\\python37\\lib\\site-packages (1.16.3)\n",
      "Requirement already satisfied: pyparsing in c:\\users\\asmae_000\\appdata\\local\\programs\\python\\python37\\lib\\site-packages (from rdflib) (2.4.0)\n",
      "Requirement already satisfied: isodate in c:\\users\\asmae_000\\appdata\\local\\programs\\python\\python37\\lib\\site-packages (from rdflib) (0.6.0)\n",
      "Requirement already satisfied: pytz>=2011k in c:\\users\\asmae_000\\appdata\\local\\programs\\python\\python37\\lib\\site-packages (from pandas) (2019.1)\n",
      "Requirement already satisfied: python-dateutil>=2.5.0 in c:\\users\\asmae_000\\appdata\\local\\programs\\python\\python37\\lib\\site-packages (from pandas) (2.8.0)\n",
      "Requirement already satisfied: six in c:\\users\\asmae_000\\appdata\\local\\programs\\python\\python37\\lib\\site-packages (from isodate->rdflib) (1.12.0)\n"
     ]
    }
   ],
   "source": [
    "!pip install rdflib pandas scipy numpy"
   ]
  },
  {
   "cell_type": "code",
   "execution_count": 101,
   "metadata": {},
   "outputs": [],
   "source": [
    "# Import all required libraries (some are missing)\n",
    "from rdflib import Graph, URIRef, Literal, BNode, Namespace, RDF\n",
    "from rdflib.namespace import RDF, XSD\n",
    "import numpy as np\n",
    "from scipy import stats\n",
    "import pandas as pd\n"
   ]
  },
  {
   "cell_type": "code",
   "execution_count": 102,
   "metadata": {},
   "outputs": [
    {
     "name": "stdout",
     "output_type": "stream",
     "text": [
      "[ 95 103  99]\n",
      "[50 35 21 15  7 40]\n",
      "0.00018016897790311737\n"
     ]
    }
   ],
   "source": [
    "# Run the T-test for the means of two independent samples using the example data\n",
    "\n",
    "# labels = ...\n",
    "labels = [\"non-failing heart (NF)\", \"failing heart (F)\"]\n",
    "# data = ...\n",
    "nf = np.array([95, 103,99])\n",
    "print(nf)\n",
    "f = np.array([50,35,21,15,7,40])\n",
    "print(f)\n",
    "# Print the p-value\n",
    "statistic, pvalue =stats.ttest_ind(nf,f)\n",
    "\n",
    "print(pvalue)\n",
    "\n"
   ]
  },
  {
   "cell_type": "code",
   "execution_count": 103,
   "metadata": {},
   "outputs": [
    {
     "name": "stdout",
     "output_type": "stream",
     "text": [
      "b'<?xml version=\"1.0\" encoding=\"UTF-8\"?>\\n<rdf:RDF\\n   xmlns:obo=\"http://purl.obolibrary.org/obo/\"\\n   xmlns:rdf=\"http://www.w3.org/1999/02/22-rdf-syntax-ns#\"\\n>\\n  <rdf:Description rdf:nodeID=\"Ncc0256cb65844dc1b155d8e3c63aac6e\">\\n    <obo:OBI_0000299 rdf:resource=\"http://purl.obolibrary.org/obo/OBI_0000175\"/>\\n    <rdf:type rdf:resource=\"http://purl.obolibrary.org/obo/STATO_0000304\"/>\\n    <obo:OBI_0000293 rdf:nodeID=\"Nf1900ae9a18d4098ac66cbc85879cddd\"/>\\n  </rdf:Description>\\n  <rdf:Description rdf:nodeID=\"Nf1900ae9a18d4098ac66cbc85879cddd\">\\n    <rdf:type rdf:resource=\"http://purl.obolibrary.org/obo/GO_0030350\"/>\\n  </rdf:Description>\\n  <rdf:Description rdf:nodeID=\"N213077ad95b843e1925750d9b67f2934\">\\n    <obo:OBI_0001937 rdf:datatype=\"http://www.w3.org/2001/XMLSchema#double\">0.00018016897790311737</obo:OBI_0001937>\\n  </rdf:Description>\\n  <rdf:Description rdf:about=\"http://purl.obolibrary.org/obo/OBI_0000175\">\\n    <obo:OBI_0001938 rdf:nodeID=\"N213077ad95b843e1925750d9b67f2934\"/>\\n    <rdf:type rdf:resource=\"http://purl.obolibrary.org/obo/OBI_0001931\"/>\\n  </rdf:Description>\\n</rdf:RDF>\\n'\n"
     ]
    }
   ],
   "source": [
    "# Describe the statistical hypothesis test in machine readable form\n",
    "\n",
    "# First, we initialize an RDF Graph and bind some prefixes\n",
    "g = Graph()\n",
    "g.bind('obo', 'http://purl.obolibrary.org/obo/')\n",
    "g.bind('ex', 'http://example.org/')\n",
    "\n",
    "# Next, we define some needed vocabulary\n",
    "obo = dict()\n",
    "obo['two sample t-test with unequal variance'] = URIRef('http://purl.obolibrary.org/obo/STATO_0000304')\n",
    "obo['has specified input'] = URIRef('http://purl.obolibrary.org/obo/OBI_0000293')\n",
    "obo['has specified output'] = URIRef('http://purl.obolibrary.org/obo/OBI_0000299')\n",
    "obo['p-value'] = URIRef('http://purl.obolibrary.org/obo/OBI_0000175')\n",
    "obo['has value specification'] = URIRef('http://purl.obolibrary.org/obo/OBI_0001938')\n",
    "obo['scalar value specification'] = URIRef('http://purl.obolibrary.org/obo/OBI_0001931')\n",
    "obo['has specified numeric value'] = URIRef('http://purl.obolibrary.org/obo/OBI_0001937')\n",
    "obo['iron-responsive element binding'] = URIRef('http://purl.obolibrary.org/obo/GO_0030350')\n",
    "\n",
    "# Now, populate the graph with statements\n",
    "# As an example, the following statement types the resource (blank node) 'n1' as 'two sample t-test with unequal variance'\n",
    "n1 = BNode()\n",
    "g.add((n1, RDF.type, obo['two sample t-test with unequal variance']))\n",
    "\n",
    "# Now, state that the t-test has iron-responsive element binding as a specified input (one statement to complete)\n",
    "n2 = BNode()\n",
    "g.add((n1, obo['has specified input'], n2))\n",
    "g.add((n2, RDF.type, obo['iron-responsive element binding']))\n",
    "\n",
    "# Next, state that the t-test has the p-value computed above as a specified output (two statements to complete)\n",
    "\n",
    "g.add((n1, obo['has specified output'], obo['p-value']))\n",
    "\n",
    "\n",
    "# The literal value of the p-value is represented as a scalar value specification with a specified numeric value (three statements to complete)\n",
    "\n",
    "n3 = BNode()\n",
    "g.add((obo['p-value'], RDF.type, obo['scalar value specification']))\n",
    "g.add((obo['p-value'], obo['has value specification'], n3))\n",
    "g.add((n3, obo['has specified numeric value'], Literal(pvalue)))\n",
    "\n",
    "# Type the literal as double\n",
    "g.add((n3, obo['has specified numeric value'], Literal(pvalue, datatype=XSD.double)))\n",
    "\n",
    "# Finally, serialize and print the graph in RDF/XML format\n",
    "print(g.serialize(format='xml'))\n",
    "\n"
   ]
  },
  {
   "cell_type": "code",
   "execution_count": 104,
   "metadata": {},
   "outputs": [
    {
     "name": "stdout",
     "output_type": "stream",
     "text": [
      "0.00018016897790311737\n"
     ]
    }
   ],
   "source": [
    "# Process the machine readable statistical hypothesis test by completing the following SPARQL query that returns the p-value\n",
    "\n",
    "q = \"\"\"\n",
    "PREFIX obo: <http://purl.obolibrary.org/obo/>\n",
    "\n",
    "SELECT ?pvalue WHERE {\n",
    "  ?r a obo:STATO_0000304 .\n",
    "  ?r obo:OBI_0000293 [ a obo:GO_0030350 ] .\n",
    "  ?r obo:OBI_0000299  obo:OBI_0000175 .\n",
    "    obo:OBI_0000175 a obo:OBI_0001931 .\n",
    "  obo:OBI_0000175 obo:OBI_0001938 ?val .\n",
    "    ?val obo:OBI_0001937 ?pvalue .\n",
    "}\n",
    "\"\"\"\n",
    "\n",
    "for qs in g.query(q):\n",
    "    print(qs[0])"
   ]
  }
 ],
 "metadata": {
  "kernelspec": {
   "display_name": "Python 3",
   "language": "python",
   "name": "python3"
  },
  "language_info": {
   "codemirror_mode": {
    "name": "ipython",
    "version": 3
   },
   "file_extension": ".py",
   "mimetype": "text/x-python",
   "name": "python",
   "nbconvert_exporter": "python",
   "pygments_lexer": "ipython3",
   "version": "3.7.3"
  }
 },
 "nbformat": 4,
 "nbformat_minor": 2
}
